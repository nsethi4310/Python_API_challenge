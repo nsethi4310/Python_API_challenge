{
 "cells": [
  {
   "cell_type": "code",
   "execution_count": 3,
   "metadata": {
    "scrolled": true
   },
   "outputs": [],
   "source": [
    "#!pip install citipy"
   ]
  },
  {
   "cell_type": "code",
   "execution_count": 28,
   "metadata": {},
   "outputs": [],
   "source": [
    "# WeatherPy\n",
    "#----\n",
    "\n",
    "#### Note\n",
    "#* Instructions have been included for each segment. You do not have to follow them exactly, but they are included to help you think through the steps."
   ]
  },
  {
   "cell_type": "code",
   "execution_count": 1,
   "metadata": {
    "scrolled": true
   },
   "outputs": [],
   "source": [
    "# Dependencies and Setup\n",
    "import matplotlib.pyplot as plt\n",
    "import pandas as pd\n",
    "import numpy as np\n",
    "import requests\n",
    "import time\n",
    "from scipy.stats import linregress\n",
    "\n",
    "# Import API key\n",
    "from api_keys import weather_api_key\n",
    "\n",
    "# Incorporated citipy to determine city based on latitude and longitude\n",
    "from citipy import citipy\n",
    "\n",
    "# Output File (CSV)\n",
    "output_data_file = \"output_data/cities.csv\"\n",
    "\n",
    "# Range of latitudes and longitudes\n",
    "lat_range = (-90, 90)\n",
    "lng_range = (-180, 180)"
   ]
  },
  {
   "cell_type": "markdown",
   "metadata": {},
   "source": [
    "## Generate Cities List"
   ]
  },
  {
   "cell_type": "code",
   "execution_count": 2,
   "metadata": {},
   "outputs": [
    {
     "data": {
      "text/plain": [
       "614"
      ]
     },
     "execution_count": 2,
     "metadata": {},
     "output_type": "execute_result"
    }
   ],
   "source": [
    "# List for holding lat_lngs and cities\n",
    "lat_lngs = []\n",
    "cities = []\n",
    "\n",
    "# Create a set of random lat and lng combinations\n",
    "lats = np.random.uniform(lat_range[0], lat_range[1], size=1500)\n",
    "lngs = np.random.uniform(lng_range[0], lng_range[1], size=1500)\n",
    "lat_lngs = zip(lats, lngs)\n",
    "\n",
    "# Identify nearest city for each lat, lng combination\n",
    "for lat_lng in lat_lngs:\n",
    "    city = citipy.nearest_city(lat_lng[0], lat_lng[1]).city_name\n",
    "    \n",
    "    # If the city is unique, then add it to a our cities list\n",
    "    if city not in cities:\n",
    "        cities.append(city)\n",
    "\n",
    "# Print the city count to confirm sufficient count\n",
    "len(cities)\n"
   ]
  },
  {
   "cell_type": "markdown",
   "metadata": {},
   "source": [
    "### Perform API Calls\n",
    "* Perform a weather check on each city using a series of successive API calls.\n",
    "* Include a print log of each city as it'sbeing processed (with the city number and city name).\n"
   ]
  },
  {
   "cell_type": "code",
   "execution_count": 3,
   "metadata": {
    "scrolled": true
   },
   "outputs": [
    {
     "name": "stdout",
     "output_type": "stream",
     "text": [
      "Printing record: 3985710| Cabo San Lucas\n",
      "Printing record: 5557293| Sitka\n",
      "Printing record: 1006984| East London\n",
      "Printing record: 2487130| Sidi Ali\n",
      "City not found...skipping\n",
      "Printing record: 3374083| Bathsheba\n",
      "Printing record: 6170031| Tuktoyaktuk\n",
      "Printing record: 3874787| Punta Arenas\n",
      "Printing record: 4030556| Rikitea\n",
      "Printing record: 6201424| Mataura\n",
      "Printing record: 3995652| Mocorito\n",
      "Printing record: 3833367| Ushuaia\n",
      "Printing record: 2094027| Kieta\n",
      "Printing record: 2128975| Nemuro\n",
      "Printing record: 964406| Port Shepstone\n",
      "Printing record: 2075265| Busselton\n",
      "Printing record: 1213855| Sibolga\n",
      "Printing record: 3418910| Upernavik\n",
      "Printing record: 3652758| Puerto Baquerizo Moreno\n",
      "Printing record: 5122534| Jamestown\n",
      "Printing record: 55671| Kismayo\n",
      "Printing record: 5855927| Hilo\n",
      "Printing record: 2022572| Khatanga\n",
      "Printing record: 3448453| São Miguel do Iguaçu\n",
      "City not found...skipping\n",
      "Printing record: 6165406| Thompson\n",
      "City not found...skipping\n",
      "Printing record: 6050066| La Ronge\n",
      "Printing record: 934479| Grand Gaube\n",
      "Printing record: 3466165| Cidreira\n",
      "Printing record: 5848280| Kapaa\n",
      "City not found...skipping\n",
      "Printing record: 2014624| Udachny\n",
      "Printing record: 5546220| Saint George\n",
      "Printing record: 514052| Ostrovskoye\n",
      "Printing record: 2094746| Kandrian\n",
      "Printing record: 3576994| Cockburn Town\n",
      "Printing record: 5282297| Bethel\n",
      "Printing record: 4032243| Vaini\n",
      "Printing record: 2206939| Bluff\n",
      "Printing record: 6185377| Yellowknife\n",
      "Printing record: 3176748| Forio\n",
      "Printing record: 2110227| Butaritari\n",
      "Printing record: 2057087| Kupang\n",
      "Printing record: 3430863| Mar del Plata\n",
      "Printing record: 6316343| Alta Floresta\n",
      "Printing record: 1015776| Bredasdorp\n",
      "Printing record: 964432| Port Alfred\n",
      "Printing record: 1611635| Betong\n",
      "Printing record: 5554072| Juneau\n",
      "City not found...skipping\n",
      "Printing record: 5106841| Albany\n",
      "City not found...skipping\n",
      "Printing record: 2208248| Kaitangata\n",
      "City not found...skipping\n",
      "Printing record: 1852357| Shimoda\n",
      "Printing record: 2145214| Victoria Point\n",
      "Printing record: 1803567| Linfen\n",
      "Printing record: 1537939| Stepnogorsk\n",
      "City not found...skipping\n",
      "Printing record: 6167817| Torbay\n",
      "Printing record: 3471451| Arraial do Cabo\n",
      "Printing record: 1106643| Quatre Cocos\n",
      "Printing record: 293842| Kiryat Gat\n",
      "Printing record: 4020109| Atuona\n",
      "Printing record: 2074113| Collie\n",
      "Printing record: 2023333| Kachug\n",
      "Printing record: 4035715| Avarua\n",
      "Printing record: 3380290| Sinnamary\n",
      "City not found...skipping\n",
      "Printing record: 336350| Goba\n",
      "Printing record: 199604| Chepareria\n",
      "Printing record: 2121385| Severo-Kuril'sk\n",
      "City not found...skipping\n",
      "Printing record: 3444105| San Matías\n",
      "Printing record: 3401845| Conceição do Araguaia\n",
      "Printing record: 2112802| Hasaki\n",
      "Printing record: 3855075| General Pico\n",
      "Printing record: 1684606| Taganak\n",
      "Printing record: 902721| Mwense\n",
      "Printing record: 1788402| Xiongzhou\n",
      "Printing record: 1267716| Karmāla\n",
      "Printing record: 3662489| Santa Isabel Rio Negro\n",
      "Printing record: 5380437| Pacific Grove\n",
      "Printing record: 5859699| College\n",
      "Printing record: 1649150| Bengkulu\n",
      "City not found...skipping\n",
      "Printing record: 2082539| Merauke\n",
      "Printing record: 2017155| Saskylakh\n",
      "Printing record: 1737185| Kapit\n",
      "Printing record: 6089245| Norman Wells\n",
      "Printing record: 1819729| Hong Kong\n",
      "Printing record: 158289| Ibanda\n",
      "Printing record: 5096699| Clifton\n",
      "City not found...skipping\n",
      "Printing record: 4196508| Fulton\n",
      "Printing record: 3366880| Hermanus\n",
      "Printing record: 2264557| Ponta do Sol\n",
      "City not found...skipping\n",
      "Printing record: 5880054| Barrow\n",
      "Printing record: 2025630| Chara\n",
      "Printing record: 2163355| Hobart\n",
      "Printing record: 2517436| Gáldar\n",
      "Printing record: 690960| Turka\n",
      "Printing record: 3839307| Rawson\n",
      "Printing record: 2156643| Mount Gambier\n",
      "Printing record: 4944903| Nantucket\n",
      "City not found...skipping\n",
      "City not found...skipping\n",
      "Printing record: 546105| Nikolskoye\n",
      "Printing record: 2021093| Kuytun\n",
      "City not found...skipping\n",
      "Printing record: 333356| Kemisē\n",
      "Printing record: 140380| Bojnourd\n",
      "Printing record: 556268| Ostrovnoy\n",
      "Printing record: 2071860| Esperance\n",
      "Printing record: 1738050| Marabu\n",
      "Printing record: 1052944| Angoche\n",
      "Printing record: 286621| Salalah\n",
      "Printing record: 3404558| Cabedelo\n",
      "Printing record: 933390| Masunga\n",
      "Printing record: 2980080| Saint-François\n",
      "Printing record: 3466704| Castro\n",
      "Printing record: 933995| Souillac\n",
      "Printing record: 2063056| Port Augusta\n",
      "Printing record: 3440777| Rocha\n",
      "Printing record: 2186111| Ngunguru\n",
      "Printing record: 3883457| Lebu\n",
      "Printing record: 5391295| Salinas\n",
      "Printing record: 3445026| Vila Velha\n",
      "Printing record: 1651810| Airai\n",
      "Printing record: 1850523| Tateyama\n",
      "Printing record: 986717| Kruisfontein\n",
      "Printing record: 64013| Bosaso\n",
      "Printing record: 2263905| Ribeira Brava\n",
      "Printing record: 4301317| Morehead\n",
      "City not found...skipping\n",
      "Printing record: 3374210| São Filipe\n",
      "Printing record: 3421719| Narsaq\n",
      "Printing record: 4315067| Ascension\n",
      "Printing record: 4033077| Vaitape\n",
      "Printing record: 489135| Staraya Mayna\n",
      "Printing record: 3894426| Coyhaique\n",
      "Printing record: 2447513| Arlit\n",
      "Printing record: 4132093| Springdale\n",
      "Printing record: 3664243| Feijó\n",
      "Printing record: 1735106| George Town\n",
      "Printing record: 3374462| Mindelo\n",
      "Printing record: 2109701| Auki\n",
      "Printing record: 1486321| Yar-Sale\n",
      "City not found...skipping\n",
      "Printing record: 2155415| New Norfolk\n",
      "Printing record: 325361| Adana Province\n",
      "Printing record: 3372707| Ribeira Grande\n",
      "Printing record: 3369157| Cape Town\n",
      "Printing record: 5847411| Kahului\n",
      "Printing record: 3389822| Salinópolis\n",
      "Printing record: 2381334| Atar\n",
      "Printing record: 3899695| Ancud\n",
      "Printing record: 4231997| Avera\n",
      "Printing record: 3652764| Puerto Ayora\n",
      "Printing record: 3905792| San Borja\n",
      "Printing record: 3831208| Qaanaaq\n",
      "Printing record: 3466980| Caravelas\n",
      "Printing record: 3424607| Tasiilaq\n",
      "Printing record: 3943626| Chivay\n",
      "Printing record: 1848976| Wajima\n",
      "Printing record: 3860443| Comodoro Rivadavia\n",
      "Printing record: 3361934| Saldanha\n",
      "Printing record: 3592086| Ocós\n",
      "Printing record: 5110365| Broome\n",
      "City not found...skipping\n",
      "Printing record: 1490364| Tabory\n",
      "Printing record: 964420| Port Elizabeth\n",
      "Printing record: 2074865| Carnarvon\n",
      "Printing record: 4031637| Lavrentiya\n",
      "Printing record: 2019884| Mogzon\n",
      "City not found...skipping\n",
      "Printing record: 2171099| Codrington\n",
      "Printing record: 2121025| Srednekolymsk\n",
      "Printing record: 5866063| Kenai\n",
      "Printing record: 87205| Darnah\n",
      "Printing record: 935214| Saint-Pierre\n",
      "Printing record: 5046001| Sartell\n",
      "Printing record: 2059470| Victor Harbor\n",
      "Printing record: 3393536| Olinda\n",
      "Printing record: 1640902| Kawalu\n",
      "Printing record: 3456763| Moreira Sales\n",
      "Printing record: 5525042| Levelland\n",
      "Printing record: 5924351| Clyde River\n",
      "Printing record: 2450849| Sokolo\n",
      "Printing record: 3870243| Taltal\n",
      "Printing record: 934322| Mahébourg\n",
      "Printing record: 712787| Baryshivka\n",
      "Printing record: 3979819| Zacualpan\n",
      "Printing record: 2643044| Margate\n",
      "Printing record: 779554| Honningsvåg\n",
      "City not found...skipping\n",
      "Printing record: 2047258| Novyy Urgal\n",
      "Printing record: 3385899| Tutóia\n",
      "Printing record: 1693125| Polillo\n",
      "Printing record: 2033413| Yichun\n",
      "Printing record: 2433437| Doba\n",
      "Printing record: 6355222| Yulara\n",
      "Printing record: 5881688| Fort Saint James\n",
      "Printing record: 1501377| Kungurtug\n",
      "Printing record: 142255| Bāfq\n",
      "Printing record: 3347719| Luena\n",
      "Printing record: 3443061| Chui\n",
      "Printing record: 1267390| Kavaratti\n",
      "Printing record: 3628423| San Felipe\n",
      "City not found...skipping\n",
      "Printing record: 4726521| San Patricio\n",
      "Printing record: 292672| Sharjah city\n",
      "City not found...skipping\n",
      "Printing record: 2084442| Vanimo\n",
      "City not found...skipping\n",
      "Printing record: 667303| Sfântu Gheorghe\n",
      "Printing record: 5962442| Goderich\n",
      "Printing record: 1282256| Hithadhoo\n",
      "Printing record: 1785036| Zhangye\n",
      "Printing record: 184921| Mwingi\n",
      "City not found...skipping\n",
      "Printing record: 3390896| Quixeré\n",
      "Printing record: 3143034| Farnes\n",
      "Printing record: 5850554| Makakilo City\n",
      "Printing record: 4034551| Faanui\n",
      "Printing record: 3347019| Mossamedes\n",
      "Printing record: 2123814| Leningradskiy\n",
      "Printing record: 4034496| Fare\n",
      "Printing record: 4021858| Guerrero Negro\n",
      "Printing record: 4791259| Virginia Beach\n",
      "Printing record: 2126199| Cherskiy\n",
      "Printing record: 2137773| Vao\n",
      "City not found...skipping\n",
      "Printing record: 935215| Saint-Philippe\n",
      "Printing record: 1052373| Beira\n",
      "Printing record: 1024312| Mocuba\n",
      "City not found...skipping\n"
     ]
    },
    {
     "name": "stdout",
     "output_type": "stream",
     "text": [
      "City not found...skipping\n",
      "Printing record: 5955902| Fort Nelson\n",
      "Printing record: 2641434| Northam\n",
      "Printing record: 3489440| Morant Bay\n",
      "Printing record: 5983720| Iqaluit\n",
      "Printing record: 3039162| Sant Julià de Loria\n",
      "Printing record: 3421765| Nanortalik\n",
      "Printing record: 2312895| Mbandaka\n",
      "City not found...skipping\n",
      "Printing record: 576260| Bisert'\n",
      "Printing record: 5887798| Assiniboia\n",
      "Printing record: 5364271| Laguna\n",
      "Printing record: 2127202| Anadyr\n",
      "Printing record: 2021041| Kyra\n",
      "Printing record: 3092472| Malbork\n",
      "Printing record: 2120591| Tilichiki\n",
      "Printing record: 3981069| Tres Palos\n",
      "Printing record: 2015306| Tiksi\n",
      "Printing record: 767605| Krasnystaw\n",
      "City not found...skipping\n",
      "Printing record: 2986626| Plouzané\n",
      "City not found...skipping\n",
      "Printing record: 3932145| Pisco\n",
      "Printing record: 3131824| Vigrestad\n",
      "Printing record: 5866583| Saint Paul Harbor\n",
      "Printing record: 3441665| Minas\n",
      "Printing record: 1067565| Beloha\n",
      "Printing record: 3372964| Lagoa\n",
      "Printing record: 3414079| Olafsvik\n",
      "Printing record: 4946620| Palmer\n",
      "Printing record: 4845585| Westport\n",
      "Printing record: 473263| Vizinga\n",
      "Printing record: 1215502| Banda Aceh\n",
      "Printing record: 525426| Sobolevo\n",
      "Printing record: 2170577| Cooma\n",
      "Printing record: 1721720| Cabatuan\n",
      "Printing record: 4026082| Lázaro Cárdenas\n",
      "Printing record: 2618795| Klaksvík\n",
      "Printing record: 1160939| Iranshahr\n",
      "Printing record: 259265| Koróni\n",
      "Printing record: 3472284| Anastácio\n",
      "Printing record: 2278158| Buchanan\n",
      "Printing record: 2035707| Mujiayingzi\n",
      "City not found...skipping\n",
      "Printing record: 2094342| Kavieng\n",
      "Printing record: 1528998| Yumen\n",
      "Printing record: 1707108| Latung\n",
      "Printing record: 150689| Poli\n",
      "Printing record: 1487394| Verkhniy Ufaley\n",
      "Printing record: 2123278| Mil'kovo\n",
      "Printing record: 3665693| Yolombó\n",
      "Printing record: 3899539| Antofagasta\n",
      "Printing record: 1627185| Sijunjung\n",
      "City not found...skipping\n",
      "Printing record: 1061335| Mananjary\n",
      "Printing record: 5861897| Fairbanks\n",
      "Printing record: 2381972| Adrar\n",
      "Printing record: 6255012| Flinders\n",
      "City not found...skipping\n",
      "Printing record: 2122090| Pevek\n",
      "Printing record: 6164831| Thessalon\n",
      "Printing record: 3105522| Bereda\n",
      "Printing record: 3939761| Hualmay\n",
      "Printing record: 5044290| Saint Anthony\n",
      "Printing record: 2561668| Santa Cruz\n",
      "Printing record: 4031742| Egvekinot\n",
      "Printing record: 286245| Sur\n",
      "Printing record: 3453420| Planaltina\n",
      "Printing record: 2812515| Weilheim\n",
      "Printing record: 3407762| Amapá\n",
      "Printing record: 5367788| Lompoc\n",
      "Printing record: 6096551| Pangnirtung\n",
      "Printing record: 2030065| Mandalgovi\n",
      "City not found...skipping\n",
      "Printing record: 469995| Vysotsk\n",
      "Printing record: 1058381| Morondava\n",
      "Printing record: 2028164| Deputatsky\n",
      "Printing record: 1835848| Seoul\n",
      "City not found...skipping\n",
      "Printing record: 3893629| Coquimbo\n",
      "Printing record: 2037252| Genhe\n",
      "Printing record: 1271715| Gandhinagar\n",
      "Printing record: 1507390| Dikson\n",
      "Printing record: 1106677| Bambous Virieux\n",
      "Printing record: 2266895| Machico\n",
      "Printing record: 5919815| Channel-Port aux Basques\n",
      "Printing record: 4470244| Havelock\n",
      "Printing record: 368246| Raja\n",
      "Printing record: 4031574| Provideniya\n",
      "Printing record: 2644605| Lerwick\n",
      "Printing record: 3448332| São Pedro do Sul\n",
      "Printing record: 2179537| Wellington\n",
      "Printing record: 2134814| Sola\n",
      "City not found...skipping\n",
      "Printing record: 553190| Kandalaksha\n",
      "Printing record: 3836873| San Miguel de Tucumán\n",
      "Printing record: 1488048| Ulagan\n",
      "Printing record: 847633| Alta\n",
      "Printing record: 4513583| Hamilton\n",
      "Printing record: 3449340| São Borja\n",
      "Printing record: 1274055| Chittarkonda\n",
      "Printing record: 3355672| Lüderitz\n",
      "Printing record: 2729907| Longyearbyen\n",
      "Printing record: 1701054| Marawi\n",
      "Printing record: 4255151| Bud\n",
      "City not found...skipping\n",
      "Printing record: 2189343| Kaeo\n",
      "Printing record: 1056899| Sambava\n",
      "City not found...skipping\n",
      "Printing record: 3664659| Carauari\n",
      "City not found...skipping\n",
      "Printing record: 2374583| Bubaque\n",
      "Printing record: 3381041| Mana\n",
      "Printing record: 2212775| Sabha\n",
      "City not found...skipping\n",
      "Printing record: 1732826| Mersing\n",
      "Printing record: 2346229| Calabar\n",
      "Printing record: 3662761| Porto Walter\n",
      "Printing record: 2158767| Mareeba\n",
      "Printing record: 1714733| Dingle\n",
      "Printing record: 2988507| Paris\n",
      "Printing record: 2015179| Tommot\n",
      "Printing record: 2093691| Kokoda\n",
      "Printing record: 175961| Mpulungu\n",
      "Printing record: 5983607| Inuvik\n",
      "City not found...skipping\n",
      "Printing record: 5069297| Grand Island\n",
      "Printing record: 3869716| Tocopilla\n",
      "Printing record: 3464008| Esmeraldas\n",
      "Printing record: 2206890| Masterton\n",
      "Printing record: 1855540| Naze\n",
      "Printing record: 1024552| Xai-Xai\n",
      "Printing record: 2334802| Katsina\n",
      "Printing record: 4328010| Houma\n",
      "Printing record: 1812256| Dongsheng\n",
      "Printing record: 4550881| Sapulpa\n",
      "Printing record: 2070998| Geraldton\n",
      "Printing record: 3670218| San Andrés\n",
      "Printing record: 4032369| Pangai\n",
      "Printing record: 338345| Edd\n",
      "Printing record: 581049| Arkhangelsk\n",
      "Printing record: 3421193| Paamiut\n",
      "Printing record: 5392900| Santa Ana\n",
      "Printing record: 6111867| Port Hawkesbury\n",
      "Printing record: 5920381| Chase\n",
      "Printing record: 515805| Oktyabr'skoye\n",
      "Printing record: 4379968| Cape Girardeau\n",
      "Printing record: 1180729| Dalbandin\n",
      "Printing record: 5670128| Orchard Homes\n",
      "City not found...skipping\n",
      "Printing record: 3386213| Touros\n",
      "Printing record: 2036113| Liaoyang\n",
      "Printing record: 2514651| Los Llanos de Aridane\n",
      "City not found...skipping\n",
      "Printing record: 477940| Ust-Tsilma\n",
      "Printing record: 350203| Rosetta\n",
      "City not found...skipping\n",
      "Printing record: 1795632| Shenjiamen\n",
      "City not found...skipping\n",
      "Printing record: 1326105| Falam\n",
      "Printing record: 3174050| Province of Mantua\n",
      "Printing record: 1299237| Pyapon\n",
      "Printing record: 2396853| Omboué\n",
      "Printing record: 2126123| Chokurdakh\n",
      "Printing record: 2122605| Okhotsk\n",
      "Printing record: 3187297| Kucura\n",
      "Printing record: 1262067| Nalgonda\n",
      "Printing record: 1516048| Khovd\n",
      "Printing record: 3175096| Laas\n",
      "Printing record: 1849892| Tottori-shi\n",
      "Printing record: 3470821| Barra\n",
      "Printing record: 358620| Safaga\n",
      "Printing record: 3064919| Stříbro\n",
      "Printing record: 2270385| Camacha\n",
      "Printing record: 2655288| Boddam\n",
      "Printing record: 3887127| Iquique\n",
      "Printing record: 3420846| Qaqortoq\n",
      "Printing record: 1487332| Verkhnyaya Inta\n",
      "Printing record: 622428| Salihorsk\n",
      "Printing record: 2455216| Kita\n",
      "Printing record: 3466005| Cocal\n",
      "Printing record: 3893726| Constitución\n",
      "Printing record: 2980915| Arrondissement de Saint-Denis\n",
      "City not found...skipping\n",
      "Printing record: 1526041| Atasū\n",
      "Printing record: 2450173| Taoudenni\n",
      "Printing record: 1246294| Galle\n",
      "Printing record: 6113365| Prince George\n",
      "Printing record: 1798760| Pingliang\n",
      "Printing record: 1651103| Atambua\n",
      "Printing record: 3647444| Calabozo\n",
      "Printing record: 110690| Abhā\n",
      "Printing record: 1062663| Mahajanga\n",
      "Printing record: 2120047| Ust'-Omchug\n",
      "Printing record: 3461624| Ibatiba\n",
      "Printing record: 1635882| Mataram\n",
      "Printing record: 553766| Kamenka\n",
      "Printing record: 667919| Săsciori\n",
      "Printing record: 5504003| Fernley\n",
      "Printing record: 1681079| Tuburan\n",
      "Printing record: 2068110| Kununurra\n",
      "Printing record: 2033196| Zhangjiakou\n",
      "Printing record: 2514256| Málaga\n",
      "City not found...skipping\n",
      "Printing record: 1853371| Ryōtsu-minato\n",
      "City not found...skipping\n",
      "Printing record: 5167350| Powell\n",
      "Printing record: 2951825| Bayreuth\n",
      "Printing record: 6113406| Prince Rupert\n",
      "Printing record: 4160021| Jacksonville\n",
      "Printing record: 1513491| Yangi Marg`ilon\n",
      "Printing record: 1491230| Sovetskiy\n",
      "Printing record: 1652203| Xam Nua\n",
      "Printing record: 1259385| Port Blair\n",
      "Printing record: 1630789| Pontianak\n",
      "Printing record: 2191562| Dunedin\n",
      "Printing record: 2446796| Bilma\n",
      "Printing record: 778707| Mehamn\n",
      "Printing record: 3480908| La Asuncion\n",
      "Printing record: 2849476| Regenstauf\n",
      "Printing record: 3423146| Ilulissat\n",
      "Printing record: 1645528| Denpasar\n",
      "Printing record: 2092164| Lorengau\n",
      "Printing record: 2214432| Nālūt\n",
      "Printing record: 236950| Obo\n",
      "Printing record: 6137381| Saint-Ambroise\n",
      "Printing record: 2177069| Ballina\n",
      "Printing record: 2112309| Katsuura\n",
      "Printing record: 3654410| Manta\n",
      "Printing record: 2180815| Tuatapere\n",
      "Printing record: 3533462| Acapulco de Juárez\n",
      "Printing record: 5952330| Ferme-Neuve\n",
      "Printing record: 513329| Ozinki\n",
      "Printing record: 2016701| Shimanovsk\n",
      "Printing record: 1181065| Chitral\n",
      "Printing record: 3522788| Nautla\n",
      "Printing record: 5600685| Meridian\n",
      "Printing record: 530196| Malye Derbety\n"
     ]
    },
    {
     "name": "stdout",
     "output_type": "stream",
     "text": [
      "Printing record: 364933| Umm Kaddadah\n",
      "Printing record: 6451497| Hyères\n",
      "Printing record: 1797117| Rongcheng\n",
      "Printing record: 1252753| Yelbarga\n",
      "Printing record: 1226260| Trincomalee\n",
      "Printing record: 6112862| Preeceville\n",
      "Printing record: 967106| Oudtshoorn\n",
      "City not found...skipping\n",
      "Printing record: 136256| Dezful\n",
      "Printing record: 1790437| Zhuhai\n",
      "Printing record: 5117949| Freeport\n",
      "Printing record: 3935102| Mazamari\n",
      "Printing record: 497547| Selty\n",
      "Printing record: 962367| Richards Bay\n",
      "Printing record: 3129839| Aras\n",
      "Printing record: 1497337| Kayerkan\n",
      "Printing record: 647751| Lohja\n",
      "Printing record: 741160| Oltu\n",
      "Printing record: 949703| Thaba Nchu\n",
      "Printing record: 3684666| El Carmen de Bolívar\n",
      "Printing record: 945945| Upington\n",
      "Printing record: 3412093| Vestmannaeyjar\n",
      "Printing record: 3628473| San Cristobal\n",
      "Printing record: 5563839| Fortuna\n",
      "Printing record: 3386177| Trairi\n",
      "Printing record: 2016680| Shirokiy\n",
      "Printing record: 3385077| Conde\n",
      "Printing record: 1490256| Talnakh\n",
      "Printing record: 502738| Rassvet\n",
      "Printing record: 2655583| Bishop Auckland\n",
      "Printing record: 610864| Khani\n",
      "Printing record: 2302357| Cape Coast\n",
      "Printing record: 1259395| Porbandar\n",
      "Printing record: 2110560| Yamada\n",
      "Printing record: 2122574| Ola\n",
      "Printing record: 6180285| Whitecourt\n",
      "Printing record: 1492948| Saryg-Sep\n",
      "Printing record: 209598| Manono\n",
      "Printing record: 3388847| São Félix do Xingu\n",
      "Printing record: 1855476| Nichinan\n",
      "Printing record: 5116602| Endicott\n",
      "Printing record: 58933| Garoowe\n",
      "Printing record: 3901485| Viloco\n",
      "Printing record: 3382160| Cayenne\n",
      "Printing record: 2449893| Tessalit\n",
      "Printing record: 4499379| Wilmington\n",
      "Printing record: 4007676| Pueblo Nuevo\n",
      "Printing record: 5423294| Golden\n",
      "Printing record: 1512223| Abalak\n",
      "Printing record: 2511150| Santa Lucía\n",
      "Printing record: 2068655| Katherine\n",
      "City not found...skipping\n",
      "Printing record: 3037902| Amboise\n",
      "Printing record: 3995647| Moctezuma\n",
      "Printing record: 2152659| Port Macquarie\n",
      "Printing record: 260895| Karpathos\n",
      "Printing record: 3421319| Nuuk\n",
      "Printing record: 3448903| São João da Barra\n",
      "Printing record: 3984997| San Quintín\n",
      "Printing record: 5509851| Pahrump\n",
      "Printing record: 5262680| Merrill\n",
      "Printing record: 2303611| Esim\n",
      "Printing record: 1580541| Hoi An\n",
      "Printing record: 3996737| Rodolfo Sánchez Taboada\n",
      "Printing record: 1784841| Zhaotong\n",
      "Printing record: 1687186| Sarangani\n",
      "Printing record: 2738381| Lata\n",
      "Printing record: 303750| Nisibis\n",
      "Printing record: 2159220| Mackay\n",
      "Printing record: 157960| Kibondo\n",
      "Printing record: 3372472| Vila Franca do Campo\n",
      "Printing record: 5391959| San Francisco\n",
      "Printing record: 53654| Mogadishu\n",
      "Printing record: 6539671| Albenga\n",
      "City not found...skipping\n",
      "Printing record: 1303406| Nyaunglebin\n",
      "Printing record: 204953| Tshikapa\n",
      "Printing record: 4787534| Sterling\n",
      "Printing record: 226823| Pallisa\n",
      "Printing record: 3579925| St. George's\n",
      "Printing record: 3449747| Santa Vitória do Palmar\n",
      "City not found...skipping\n",
      "Printing record: 2742416| Barcelos\n",
      "Printing record: 3457862| Maracaí\n",
      "Printing record: 1733953| Lahad Datu\n",
      "Printing record: 1495626| Pangody\n",
      "Printing record: 5435464| Pueblo\n",
      "Printing record: 3038333| Arrondissement d'Ajaccio\n",
      "Printing record: 4547407| Owasso\n",
      "Printing record: 2276492| Harper\n",
      "Printing record: 1252668| Ziro\n",
      "City not found...skipping\n",
      "Printing record: 2109528| Buala\n",
      "Printing record: 2194098| Ahipara\n",
      "City not found...skipping\n",
      "Printing record: 601551| Akdepe\n",
      "Printing record: 1538641| Kedrovyy\n",
      "Printing record: 6166142| Thunder Bay\n",
      "Printing record: 1082243| Ambilobe\n",
      "Printing record: 4160812| Key West\n",
      "Printing record: 686090| Asău\n",
      "Printing record: 3170094| Portoferraio\n",
      "Printing record: 355449| Esna\n",
      "Printing record: 1529376| Korla\n",
      "Printing record: 1224061| Wattegama\n",
      "Printing record: 1797318| Qujing\n",
      "Printing record: 2181625| Te Anau\n",
      "Printing record: 64814| Bandarbeyla\n",
      "Printing record: 5905393| Bonavista\n",
      "Printing record: 5527953| Pampa\n",
      "Printing record: 4465088| Elizabeth City\n",
      "Printing record: 1257277| Sarāhan\n",
      "Printing record: 110690| Faya\n",
      "Printing record: 3897774| Buin\n",
      "Printing record: 5882953| Aklavik\n",
      "Printing record: 1634718| Muncar\n",
      "Printing record: 3146487| Raudeberg\n",
      "City not found...skipping\n",
      "Printing record: 6067747| Matagami\n",
      "Printing record: 550949| Kesova Gora\n",
      "Printing record: 2236568| Uíge\n",
      "Printing record: 2013465| Verkhoyansk\n",
      "Printing record: 2253354| Dakar\n",
      "-------\n",
      "Data Retrieval complete\n"
     ]
    }
   ],
   "source": [
    "url = \"http://api.openweathermap.org/data/2.5/weather?\"\n",
    "lat=[]\n",
    "lng=[]\n",
    "temp_max=[]\n",
    "humidity=[]\n",
    "cloudiness=[]\n",
    "wind_speed=[]\n",
    "date=[]\n",
    "name1=[]\n",
    "city_id=[]\n",
    "x=0\n",
    "country=[]\n",
    "units=\"metric\"\n",
    "\n",
    "#Loodk for city in cities data frame in openweathermap and create new dataframe\n",
    "# Build query URL\n",
    "\n",
    "for city in cities[:600]:\n",
    "    query_url = url + \"appid=\" + weather_api_key + \"&q=\" + city +\"&units=\"+ units\n",
    "    response = requests.get(query_url).json()\n",
    "    try:\n",
    "        lat.append(response['coord']['lat'])\n",
    "        lng.append(response['coord']['lon'])\n",
    "        temp_max.append(response['main']['temp_max']) \n",
    "        humidity.append(response['main']['humidity'])\n",
    "            \n",
    "        cloudiness.append(response['clouds']['all'])    \n",
    "            \n",
    "        wind_speed.append(response['wind']['speed'])                                 \n",
    "        date.append(response['dt'])\n",
    "        country.append(response['sys']['country'])\n",
    "       \n",
    "        city_id=response['id']\n",
    "        name=response['name']\n",
    "        name1.append(response['name'])\n",
    "\n",
    "        print(f\"Printing record: {city_id}| {name}\")    \n",
    "    \n",
    "    except KeyError:\n",
    "        print(\"City not found...skipping\")\n",
    "              \n",
    "  \n",
    "              \n",
    "print(f\"-------\")    \n",
    "print(f\"Data Retrieval complete\") \n",
    "\n",
    "\n",
    "\n",
    "                       \n",
    "                        \n",
    "                        \n",
    "    \n"
   ]
  },
  {
   "cell_type": "code",
   "execution_count": null,
   "metadata": {},
   "outputs": [],
   "source": [
    "### Convert Raw Data to DataFrame\n",
    "#* Export the citydata into a .csv.\n",
    "#* Display the DataFrame"
   ]
  },
  {
   "cell_type": "code",
   "execution_count": 4,
   "metadata": {},
   "outputs": [],
   "source": [
    "city_data={\"Name\": name1,\"lat\": lat,\"long\": lng, \"Max Temp\":temp_max,\"Humidity\": humidity, \"Cloudiness\": cloudiness, \"Date\":date,\"Wind Speed\":wind_speed,\"Country\":country}\n",
    "city_data1=pd.DataFrame(city_data)\n",
    "city_data1.head()\n",
    "#len(city_data1.Name)\n",
    "city_data1.to_csv(\"city_data2.csv\", encoding=\"utf-8\")"
   ]
  },
  {
   "cell_type": "code",
   "execution_count": 5,
   "metadata": {},
   "outputs": [
    {
     "data": {
      "text/html": [
       "<div>\n",
       "<style scoped>\n",
       "    .dataframe tbody tr th:only-of-type {\n",
       "        vertical-align: middle;\n",
       "    }\n",
       "\n",
       "    .dataframe tbody tr th {\n",
       "        vertical-align: top;\n",
       "    }\n",
       "\n",
       "    .dataframe thead th {\n",
       "        text-align: right;\n",
       "    }\n",
       "</style>\n",
       "<table border=\"1\" class=\"dataframe\">\n",
       "  <thead>\n",
       "    <tr style=\"text-align: right;\">\n",
       "      <th></th>\n",
       "      <th>Name</th>\n",
       "      <th>lat</th>\n",
       "      <th>long</th>\n",
       "      <th>Max Temp</th>\n",
       "      <th>Humidity</th>\n",
       "      <th>Cloudiness</th>\n",
       "      <th>Date</th>\n",
       "      <th>Wind Speed</th>\n",
       "      <th>Country</th>\n",
       "    </tr>\n",
       "  </thead>\n",
       "  <tbody>\n",
       "  </tbody>\n",
       "</table>\n",
       "</div>"
      ],
      "text/plain": [
       "Empty DataFrame\n",
       "Columns: [Name, lat, long, Max Temp, Humidity, Cloudiness, Date, Wind Speed, Country]\n",
       "Index: []"
      ]
     },
     "execution_count": 5,
     "metadata": {},
     "output_type": "execute_result"
    }
   ],
   "source": [
    "city_data1.loc[city_data1['Humidity']> 100]"
   ]
  },
  {
   "cell_type": "code",
   "execution_count": 6,
   "metadata": {},
   "outputs": [],
   "source": [
    "## Inspect the data and remove the cities where the humidity > 100%.\n",
    "\n",
    "#Skip this step if there are no cities that have humidity > 100%. "
   ]
  },
  {
   "cell_type": "code",
   "execution_count": 7,
   "metadata": {},
   "outputs": [],
   "source": [
    "#response"
   ]
  },
  {
   "cell_type": "code",
   "execution_count": 8,
   "metadata": {},
   "outputs": [],
   "source": [
    "#  Get the indices of cities that have humidity over 100%.\n"
   ]
  },
  {
   "cell_type": "code",
   "execution_count": 9,
   "metadata": {},
   "outputs": [],
   "source": [
    "# Make a new DataFrame equal to the city data to drop all humidity outliers by index.\n",
    "# Passing \"inplace=False\" will make a copy of the city_data DataFrame, which we call \"clean_city_data\".\n"
   ]
  },
  {
   "cell_type": "code",
   "execution_count": 11,
   "metadata": {
    "scrolled": true
   },
   "outputs": [
    {
     "data": {
      "text/html": [
       "<div>\n",
       "<style scoped>\n",
       "    .dataframe tbody tr th:only-of-type {\n",
       "        vertical-align: middle;\n",
       "    }\n",
       "\n",
       "    .dataframe tbody tr th {\n",
       "        vertical-align: top;\n",
       "    }\n",
       "\n",
       "    .dataframe thead th {\n",
       "        text-align: right;\n",
       "    }\n",
       "</style>\n",
       "<table border=\"1\" class=\"dataframe\">\n",
       "  <thead>\n",
       "    <tr style=\"text-align: right;\">\n",
       "      <th></th>\n",
       "      <th>Name</th>\n",
       "      <th>lat</th>\n",
       "      <th>long</th>\n",
       "      <th>Max Temp</th>\n",
       "      <th>Humidity</th>\n",
       "      <th>Cloudiness</th>\n",
       "      <th>Date</th>\n",
       "      <th>Wind Speed</th>\n",
       "      <th>Country</th>\n",
       "    </tr>\n",
       "  </thead>\n",
       "  <tbody>\n",
       "    <tr>\n",
       "      <th>0</th>\n",
       "      <td>Cabo San Lucas</td>\n",
       "      <td>22.89</td>\n",
       "      <td>-109.91</td>\n",
       "      <td>28.89</td>\n",
       "      <td>83</td>\n",
       "      <td>5</td>\n",
       "      <td>1603246391</td>\n",
       "      <td>5.70</td>\n",
       "      <td>MX</td>\n",
       "    </tr>\n",
       "    <tr>\n",
       "      <th>1</th>\n",
       "      <td>Sitka</td>\n",
       "      <td>57.05</td>\n",
       "      <td>-135.33</td>\n",
       "      <td>6.00</td>\n",
       "      <td>75</td>\n",
       "      <td>75</td>\n",
       "      <td>1603246656</td>\n",
       "      <td>1.58</td>\n",
       "      <td>US</td>\n",
       "    </tr>\n",
       "    <tr>\n",
       "      <th>2</th>\n",
       "      <td>East London</td>\n",
       "      <td>-33.02</td>\n",
       "      <td>27.91</td>\n",
       "      <td>14.16</td>\n",
       "      <td>66</td>\n",
       "      <td>0</td>\n",
       "      <td>1603246656</td>\n",
       "      <td>2.46</td>\n",
       "      <td>ZA</td>\n",
       "    </tr>\n",
       "    <tr>\n",
       "      <th>3</th>\n",
       "      <td>Sidi Ali</td>\n",
       "      <td>36.10</td>\n",
       "      <td>0.42</td>\n",
       "      <td>21.62</td>\n",
       "      <td>28</td>\n",
       "      <td>100</td>\n",
       "      <td>1603246656</td>\n",
       "      <td>7.56</td>\n",
       "      <td>DZ</td>\n",
       "    </tr>\n",
       "    <tr>\n",
       "      <th>4</th>\n",
       "      <td>Bathsheba</td>\n",
       "      <td>13.22</td>\n",
       "      <td>-59.52</td>\n",
       "      <td>28.00</td>\n",
       "      <td>78</td>\n",
       "      <td>40</td>\n",
       "      <td>1603246656</td>\n",
       "      <td>3.60</td>\n",
       "      <td>BB</td>\n",
       "    </tr>\n",
       "  </tbody>\n",
       "</table>\n",
       "</div>"
      ],
      "text/plain": [
       "             Name    lat    long  Max Temp  Humidity  Cloudiness        Date  \\\n",
       "0  Cabo San Lucas  22.89 -109.91     28.89        83           5  1603246391   \n",
       "1           Sitka  57.05 -135.33      6.00        75          75  1603246656   \n",
       "2     East London -33.02   27.91     14.16        66           0  1603246656   \n",
       "3        Sidi Ali  36.10    0.42     21.62        28         100  1603246656   \n",
       "4       Bathsheba  13.22  -59.52     28.00        78          40  1603246656   \n",
       "\n",
       "   Wind Speed Country  \n",
       "0        5.70      MX  \n",
       "1        1.58      US  \n",
       "2        2.46      ZA  \n",
       "3        7.56      DZ  \n",
       "4        3.60      BB  "
      ]
     },
     "execution_count": 11,
     "metadata": {},
     "output_type": "execute_result"
    }
   ],
   "source": [
    "city_data1.head()"
   ]
  },
  {
   "cell_type": "markdown",
   "metadata": {},
   "source": [
    "## Plotting the Data\n",
    "* Use proper labeling of the plots using plot titles (including date of analysis) and axes labels.\n",
    "* Save the plotted figures as .pngs."
   ]
  },
  {
   "cell_type": "markdown",
   "metadata": {},
   "source": [
    "## Latitude vs. Temperature Plot"
   ]
  },
  {
   "cell_type": "code",
   "execution_count": 12,
   "metadata": {
    "scrolled": true
   },
   "outputs": [
    {
     "data": {
      "image/png": "[encoded data removed]",
      "text/plain": [
       "<Figure size 432x288 with 1 Axes>"
      ]
     },
     "metadata": {
      "needs_background": "light"
     },
     "output_type": "display_data"
    }
   ],
   "source": [
    "plt.scatter(city_data1.lat, city_data1['Max Temp'])\n",
    "plt.xlabel('Lat')\n",
    "plt.ylabel('Temperature')\n",
    "plt.savefig('LatvsTemp.png')\n",
    "plt.show()"
   ]
  },
  {
   "cell_type": "markdown",
   "metadata": {},
   "source": [
    "## Latitude vs. Humidity Plot"
   ]
  },
  {
   "cell_type": "code",
   "execution_count": 13,
   "metadata": {},
   "outputs": [
    {
     "data": {
      "image/png": "[encoded data removed]",
      "text/plain": [
       "<Figure size 432x288 with 1 Axes>"
      ]
     },
     "metadata": {
      "needs_background": "light"
     },
     "output_type": "display_data"
    }
   ],
   "source": [
    "plt.scatter(city_data1.lat, city_data1.Humidity)\n",
    "plt.xlabel('Lat')\n",
    "plt.ylabel('Humidity')\n",
    "plt.savefig('LatvsHumidity.png')\n",
    "plt.show()"
   ]
  },
  {
   "cell_type": "markdown",
   "metadata": {},
   "source": [
    "## Latitude vs. Cloudiness Plot"
   ]
  },
  {
   "cell_type": "code",
   "execution_count": 14,
   "metadata": {},
   "outputs": [
    {
     "data": {
      "image/png": "[encoded data removed]",
      "text/plain": [
       "<Figure size 432x288 with 1 Axes>"
      ]
     },
     "metadata": {
      "needs_background": "light"
     },
     "output_type": "display_data"
    }
   ],
   "source": [
    "plt.scatter(city_data1.lat, city_data1.Cloudiness)\n",
    "plt.xlabel('Lat')\n",
    "plt.ylabel('Cloudiness')\n",
    "plt.savefig('LatvsCloudiness.png')\n",
    "plt.show()"
   ]
  },
  {
   "cell_type": "markdown",
   "metadata": {},
   "source": [
    "## Latitude vs. Wind Speed Plot"
   ]
  },
  {
   "cell_type": "code",
   "execution_count": 15,
   "metadata": {},
   "outputs": [
    {
     "data": {
      "image/png": "[encoded data removed]",
      "text/plain": [
       "<Figure size 432x288 with 1 Axes>"
      ]
     },
     "metadata": {
      "needs_background": "light"
     },
     "output_type": "display_data"
    }
   ],
   "source": [
    "plt.scatter(city_data1.lat, city_data1['Wind Speed'])\n",
    "plt.xlabel('Lat')\n",
    "plt.ylabel('Wind Speed')\n",
    "plt.savefig('LatvsWindSpeed.png')\n",
    "plt.show()"
   ]
  },
  {
   "cell_type": "markdown",
   "metadata": {},
   "source": [
    "## Linear Regression"
   ]
  },
  {
   "cell_type": "code",
   "execution_count": null,
   "metadata": {},
   "outputs": [],
   "source": []
  },
  {
   "cell_type": "markdown",
   "metadata": {},
   "source": [
    "####  Northern Hemisphere - Max Temp vs. Latitude Linear Regression"
   ]
  },
  {
   "cell_type": "code",
   "execution_count": 16,
   "metadata": {},
   "outputs": [
    {
     "data": {
      "image/png": "[encoded data removed]",
      "text/plain": [
       "<Figure size 432x288 with 1 Axes>"
      ]
     },
     "metadata": {
      "needs_background": "light"
     },
     "output_type": "display_data"
    },
    {
     "data": {
      "text/plain": [
       "<Figure size 1080x1080 with 0 Axes>"
      ]
     },
     "metadata": {},
     "output_type": "display_data"
    },
    {
     "name": "stdout",
     "output_type": "stream",
     "text": [
      "The r value is: -0.8705433342119205\n"
     ]
    }
   ],
   "source": [
    "condition = city_data1['lat'].astype(int) >= 0\n",
    "north_hem1=city_data1.where(condition)\n",
    "north_hem=north_hem1.dropna()\n",
    "x_value=north_hem['lat'].astype(int)\n",
    "y_value=north_hem['Max Temp'].astype(int)\n",
    "(slope, intercept, rvalue, pvalue, stderr) = linregress(x_value, y_value)\n",
    "\n",
    "regress_values = x_value*slope + intercept\n",
    "line_eq = \"y = \" + str(round(slope,2)) + \"x + \" + str(round(intercept,2))\n",
    "plt.scatter(x_value, y_value)\n",
    "plt.plot(x_value,regress_values,\"r-\")\n",
    "plt.annotate(line_eq,(10,10),fontsize=15,color=\"red\")\n",
    "plt.xlabel('lat')\n",
    "plt.ylabel('Max Tempearture')\n",
    "plt.figure(figsize=(15,15))\n",
    "plt.savefig('NorthLatvsTemplinReg.png')\n",
    "plt.show()\n",
    "\n",
    "\n",
    "print(f\"The r value is: {rvalue}\")"
   ]
  },
  {
   "cell_type": "markdown",
   "metadata": {},
   "source": [
    "####  Southern Hemisphere - Max Temp vs. Latitude Linear Regression"
   ]
  },
  {
   "cell_type": "code",
   "execution_count": 17,
   "metadata": {},
   "outputs": [
    {
     "data": {
      "image/png": "[encoded data removed]",
      "text/plain": [
       "<Figure size 432x288 with 1 Axes>"
      ]
     },
     "metadata": {
      "needs_background": "light"
     },
     "output_type": "display_data"
    },
    {
     "name": "stdout",
     "output_type": "stream",
     "text": [
      "The r value is: 0.6812487659752599\n"
     ]
    }
   ],
   "source": [
    "condition1 = city_data1.lat <0\n",
    "south_hem1=city_data1.where(condition1)\n",
    "south_hem=south_hem1.dropna()\n",
    "\n",
    "x_value1 =south_hem['lat'].astype(int)\n",
    "y_value1=south_hem['Max Temp'].astype(int)\n",
    "\n",
    "(slope, intercept, rvalue, pvalue, stderr) = linregress(x_value1, y_value1)\n",
    "\n",
    "regress_values1 = x_value1*slope + intercept\n",
    "line_eq1 = \"y = \" + str(round(slope,2)) + \"x + \" + str(round(intercept,2))\n",
    "plt.scatter(x_value1, y_value1)\n",
    "plt.plot(x_value1,regress_values1,\"r-\")\n",
    "plt.annotate(line_eq1,(-10,10),fontsize=15,color=\"red\")\n",
    "\n",
    "\n",
    "\n",
    "plt.xlabel('South Hemisphere')\n",
    "plt.ylabel('Temperature')\n",
    "plt.savefig('SouthLatvsTemplinReg.png')\n",
    "plt.show()\n",
    "#south_hem\n",
    "print(f\"The r value is: {rvalue}\")"
   ]
  },
  {
   "cell_type": "markdown",
   "metadata": {},
   "source": [
    "####  Northern Hemisphere - Humidity (%) vs. Latitude Linear Regression"
   ]
  },
  {
   "cell_type": "code",
   "execution_count": 18,
   "metadata": {},
   "outputs": [
    {
     "data": {
      "image/png": "[encoded data removed]",
      "text/plain": [
       "<Figure size 432x288 with 1 Axes>"
      ]
     },
     "metadata": {
      "needs_background": "light"
     },
     "output_type": "display_data"
    },
    {
     "data": {
      "text/plain": [
       "<Figure size 1080x1080 with 0 Axes>"
      ]
     },
     "metadata": {},
     "output_type": "display_data"
    },
    {
     "name": "stdout",
     "output_type": "stream",
     "text": [
      "The r value is: 0.26724004664141277\n"
     ]
    }
   ],
   "source": [
    "x_value3=north_hem['lat'].astype(int)\n",
    "y_value3=north_hem['Humidity'].astype(int)\n",
    "(slope, intercept, rvalue, pvalue, stderr) = linregress(x_value3, y_value3)\n",
    "\n",
    "regress_values3 = x_value3*slope + intercept\n",
    "line_eq3 = \"y = \" + str(round(slope,2)) + \"x + \" + str(round(intercept,2))\n",
    "plt.scatter(x_value3, y_value3)\n",
    "plt.plot(x_value3,regress_values3,\"r-\")\n",
    "plt.annotate(line_eq3,(60,60),fontsize=15,color=\"red\")\n",
    "plt.xlabel('lat')\n",
    "plt.ylabel('Humidity')\n",
    "plt.figure(figsize=(15,15))\n",
    "plt.savefig('NorthLatvsHumiditylinReg.png')\n",
    "plt.show()\n",
    "print(f\"The r value is: {rvalue}\")"
   ]
  },
  {
   "cell_type": "markdown",
   "metadata": {},
   "source": [
    "####  Southern Hemisphere - Humidity (%) vs. Latitude Linear Regression"
   ]
  },
  {
   "cell_type": "code",
   "execution_count": 19,
   "metadata": {},
   "outputs": [
    {
     "data": {
      "image/png": "[encoded data removed]",
      "text/plain": [
       "<Figure size 432x288 with 1 Axes>"
      ]
     },
     "metadata": {
      "needs_background": "light"
     },
     "output_type": "display_data"
    },
    {
     "name": "stdout",
     "output_type": "stream",
     "text": [
      "The r value is: 0.21096523554920665\n"
     ]
    }
   ],
   "source": [
    "south_hem=south_hem1.dropna()\n",
    "\n",
    "x_value4 =south_hem['lat'].astype(int)\n",
    "y_value4=south_hem['Humidity'].astype(int)\n",
    "\n",
    "(slope, intercept, rvalue, pvalue, stderr) = linregress(x_value4, y_value4)\n",
    "\n",
    "regress_values4 = x_value4*slope + intercept\n",
    "line_eq4 = \"y = \" + str(round(slope,2)) + \"x + \" + str(round(intercept,2))\n",
    "plt.scatter(x_value4, y_value4)\n",
    "plt.plot(x_value4,regress_values4,\"r-\")\n",
    "plt.annotate(line_eq4,(-10,60),fontsize=15,color=\"red\")\n",
    "\n",
    "\n",
    "\n",
    "plt.xlabel('South Hemisphere')\n",
    "plt.ylabel('Humidity')\n",
    "plt.savefig('SoutLatvsHumiditylinReg.png')\n",
    "plt.show()\n",
    "#south_hem\n",
    "print(f\"The r value is: {rvalue}\")"
   ]
  },
  {
   "cell_type": "markdown",
   "metadata": {},
   "source": [
    "####  Northern Hemisphere - Cloudiness (%) vs. Latitude Linear Regression"
   ]
  },
  {
   "cell_type": "code",
   "execution_count": 20,
   "metadata": {},
   "outputs": [
    {
     "data": {
      "image/png": "[encoded data removed]",
      "text/plain": [
       "<Figure size 432x288 with 1 Axes>"
      ]
     },
     "metadata": {
      "needs_background": "light"
     },
     "output_type": "display_data"
    },
    {
     "data": {
      "text/plain": [
       "<Figure size 1080x1080 with 0 Axes>"
      ]
     },
     "metadata": {},
     "output_type": "display_data"
    },
    {
     "name": "stdout",
     "output_type": "stream",
     "text": [
      "The r value is: 0.2639256439159263\n"
     ]
    }
   ],
   "source": [
    "x_value5=north_hem['lat'].astype(int)\n",
    "y_value5=north_hem['Cloudiness'].astype(int)\n",
    "(slope, intercept, rvalue, pvalue, stderr) = linregress(x_value5, y_value5)\n",
    "\n",
    "regress_values5 = x_value5*slope + intercept\n",
    "line_eq5 = \"y = \" + str(round(slope,2)) + \"x + \" + str(round(intercept,2))\n",
    "plt.scatter(x_value5, y_value3)\n",
    "plt.plot(x_value5,regress_values5,\"r-\")\n",
    "plt.annotate(line_eq5,(30,30),fontsize=15,color=\"red\")\n",
    "plt.xlabel('lat')\n",
    "plt.ylabel('Cloudiness')\n",
    "plt.figure(figsize=(15,15))\n",
    "plt.savefig('NorthLatvsCloudinesslinReg.png')\n",
    "plt.show()\n",
    "print(f\"The r value is: {rvalue}\")"
   ]
  },
  {
   "cell_type": "markdown",
   "metadata": {},
   "source": [
    "####  Southern Hemisphere - Cloudiness (%) vs. Latitude Linear Regression"
   ]
  },
  {
   "cell_type": "code",
   "execution_count": 21,
   "metadata": {},
   "outputs": [
    {
     "data": {
      "image/png": "[encoded data removed]",
      "text/plain": [
       "<Figure size 432x288 with 1 Axes>"
      ]
     },
     "metadata": {
      "needs_background": "light"
     },
     "output_type": "display_data"
    },
    {
     "name": "stdout",
     "output_type": "stream",
     "text": [
      "The r value is: 0.2133433495259965\n"
     ]
    }
   ],
   "source": [
    "south_hem=south_hem1.dropna()\n",
    "\n",
    "x_value6 =south_hem['lat'].astype(int)\n",
    "y_value6=south_hem['Cloudiness'].astype(int)\n",
    "\n",
    "(slope, intercept, rvalue, pvalue, stderr) = linregress(x_value6, y_value6)\n",
    "\n",
    "regress_values6 = x_value6*slope + intercept\n",
    "line_eq6 = \"y = \" + str(round(slope,2)) + \"x + \" + str(round(intercept,2))\n",
    "plt.scatter(x_value6, y_value6)\n",
    "plt.plot(x_value6,regress_values6,\"r-\")\n",
    "plt.annotate(line_eq6,(-10,40),fontsize=15,color=\"red\")\n",
    "\n",
    "\n",
    "\n",
    "plt.xlabel('South Hemisphere')\n",
    "plt.ylabel('Cloudiness')\n",
    "plt.savefig('SouthLatvsCloudinesslinReg.png')\n",
    "plt.show()\n",
    "\n",
    "print(f\"The r value is: {rvalue}\")"
   ]
  },
  {
   "cell_type": "markdown",
   "metadata": {},
   "source": [
    "####  Northern Hemisphere - Wind Speed (mph) vs. Latitude Linear Regression"
   ]
  },
  {
   "cell_type": "code",
   "execution_count": 22,
   "metadata": {},
   "outputs": [
    {
     "data": {
      "image/png": "[encoded data removed]",
      "text/plain": [
       "<Figure size 432x288 with 1 Axes>"
      ]
     },
     "metadata": {
      "needs_background": "light"
     },
     "output_type": "display_data"
    },
    {
     "data": {
      "text/plain": [
       "<Figure size 1080x1080 with 0 Axes>"
      ]
     },
     "metadata": {},
     "output_type": "display_data"
    },
    {
     "name": "stdout",
     "output_type": "stream",
     "text": [
      "The r value is: 0.030704360506888264\n"
     ]
    }
   ],
   "source": [
    "x_value7=north_hem['lat'].astype(int)\n",
    "y_value7=north_hem['Wind Speed'].astype(int)\n",
    "(slope, intercept, rvalue, pvalue, stderr) = linregress(x_value7, y_value7)\n",
    "\n",
    "regress_values7 = x_value7*slope + intercept\n",
    "line_eq7 = \"y = \" + str(round(slope,2)) + \"x + \" + str(round(intercept,2))\n",
    "plt.scatter(x_value7, y_value7)\n",
    "plt.plot(x_value7,regress_values7,\"r-\")\n",
    "plt.annotate(line_eq7,(10,10),fontsize=15,color=\"red\")\n",
    "plt.xlabel('lat')\n",
    "plt.ylabel('Wind Speed')\n",
    "plt.figure(figsize=(15,15))\n",
    "plt.savefig('NorthLatvsWindSpeedlinReg.png')\n",
    "plt.show()\n",
    "print(f\"The r value is: {rvalue}\")"
   ]
  },
  {
   "cell_type": "markdown",
   "metadata": {},
   "source": [
    "####  Southern Hemisphere - Wind Speed (mph) vs. Latitude Linear Regression"
   ]
  },
  {
   "cell_type": "code",
   "execution_count": 23,
   "metadata": {},
   "outputs": [
    {
     "data": {
      "image/png": "[encoded data removed]",
      "text/plain": [
       "<Figure size 432x288 with 1 Axes>"
      ]
     },
     "metadata": {
      "needs_background": "light"
     },
     "output_type": "display_data"
    },
    {
     "name": "stdout",
     "output_type": "stream",
     "text": [
      "The r value is: -0.14466239880905196\n"
     ]
    }
   ],
   "source": [
    "south_hem=south_hem1.dropna()\n",
    "\n",
    "x_value8 =south_hem['lat'].astype(int)\n",
    "y_value8=south_hem['Wind Speed'].astype(int)\n",
    "\n",
    "(slope, intercept, rvalue, pvalue, stderr) = linregress(x_value8, y_value8)\n",
    "\n",
    "regress_values8 = x_value8*slope + intercept\n",
    "line_eq8 = \"y = \" + str(round(slope,2)) + \"x + \" + str(round(intercept,2))\n",
    "plt.scatter(x_value8, y_value8)\n",
    "plt.plot(x_value8,regress_values8,\"r-\")\n",
    "plt.annotate(line_eq8,(-50,12),fontsize=15,color=\"red\")\n",
    "\n",
    "\n",
    "\n",
    "plt.xlabel('South Hemisphere')\n",
    "plt.ylabel('Wind Speed')\n",
    "plt.savefig('SouthLatvsWindSpeedlinReg.png')\n",
    "\n",
    "plt.show()\n",
    "\n",
    "print(f\"The r value is: {rvalue}\")\n"
   ]
  },
  {
   "cell_type": "markdown",
   "metadata": {},
   "source": [
    "#data Analysis: Observations\n",
    "1. As the latitude increases in North Hemisphere the temperature decreased as indicated by linear regression line.\n",
    "2. As the latiude decreased further in South Hemispherer temprature also decreased as indicated by line\n",
    "3. wind speed was between 2 -6 for most of the cities.\n"
   ]
  },
  {
   "cell_type": "code",
   "execution_count": null,
   "metadata": {},
   "outputs": [],
   "source": []
  }
 ],
 "metadata": {
  "anaconda-cloud": {},
  "kernel_info": {
   "name": "python3"
  },
  "kernelspec": {
   "display_name": "Python [conda env:pydata] *",
   "language": "python",
   "name": "conda-env-pydata-py"
  },
  "language_info": {
   "codemirror_mode": {
    "name": "ipython",
    "version": 3
   },
   "file_extension": ".py",
   "mimetype": "text/x-python",
   "name": "python",
   "nbconvert_exporter": "python",
   "pygments_lexer": "ipython3",
   "version": "3.6.10"
  },
  "latex_envs": {
   "LaTeX_envs_menu_present": true,
   "autoclose": false,
   "autocomplete": true,
   "bibliofile": "biblio.bib",
   "cite_by": "apalike",
   "current_citInitial": 1,
   "eqLabelWithNumbers": true,
   "eqNumInitial": 1,
   "hotkeys": {
    "equation": "Ctrl-E",
    "itemize": "Ctrl-I"
   },
   "labels_anchors": false,
   "latex_user_defs": false,
   "report_style_numbering": false,
   "user_envs_cfg": false
  },
  "nteract": {
   "version": "0.12.3"
  }
 },
 "nbformat": 4,
 "nbformat_minor": 2
}
